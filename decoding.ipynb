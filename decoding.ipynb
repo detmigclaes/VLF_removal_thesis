{
 "cells": [
  {
   "cell_type": "code",
   "execution_count": 2,
   "metadata": {},
   "outputs": [],
   "source": [
    "import numpy as np\n",
    "import matplotlib.pyplot as plt\n",
    "from scipy import signal\n",
    "from vlfpy import *"
   ]
  },
  {
   "cell_type": "code",
   "execution_count": 78,
   "metadata": {},
   "outputs": [
    {
     "name": "stdout",
     "output_type": "stream",
     "text": [
      "826\n"
     ]
    }
   ],
   "source": [
    "# calculate bit error rate\n",
    "fs = 4e6\n",
    "T = 1/200\n",
    "fc = 20e3\n",
    "L0 = 50\n",
    "\n",
    "offset = 0\n",
    "phase_offset = 0*np.pi\n",
    "error = 0\n",
    "for i in range(100):\n",
    "\n",
    "    # generate signal\n",
    "    msk, t, data, _ = generate_msk(L0, 0.5, T, fc, fs, offset=offset, phase_offset=phase_offset)\n",
    "\n",
    "    # add noise\n",
    "    msk = msk + np.random.normal(0, 40, len(msk))\n",
    "\n",
    "    # zeroes\n",
    "    msk = add_zeros(msk, 0.0005, 0.0015, fs) \n",
    "\n",
    "    # downconvert\n",
    "    s_down = msk*np.exp(-1j*2*np.pi*fc*t)\n",
    "\n",
    "    # lowpass\n",
    "    sos = signal.butter(5, 1/T, 'low', fs=fs, output='sos')\n",
    "    temp = np.append(np.ones(int(fs*T))*np.mean(s_down[0:int(fs*T)]), s_down)\n",
    "    s_down = signal.sosfiltfilt(sos, temp)[int(fs*T):]\n",
    "\n",
    "    # decode\n",
    "    decoded_data, _ = viterbi_decoder(s_down, int(T*fs))\n",
    "\n",
    "    # measire error \n",
    "    error += np.sum(np.abs(decoded_data-data))\n",
    "\n",
    "\n",
    "print(error)"
   ]
  },
  {
   "cell_type": "code",
   "execution_count": 70,
   "metadata": {},
   "outputs": [
    {
     "name": "stdout",
     "output_type": "stream",
     "text": [
      "223374.57587249283\n",
      "248615.39361786118\n",
      "0.46494274614216463\n"
     ]
    }
   ],
   "source": [
    "fs = 4e6\n",
    "T = 1/200\n",
    "fc = 20e3\n",
    "L0 = 50\n",
    "\n",
    "offset = 0\n",
    "phase_offset = 0*np.pi\n",
    "\n",
    "# calculate the noise energi\n",
    "noise = np.random.normal(0, 50, len(msk))\n",
    "\n",
    "noise_down = noise*np.exp(-1j*2*np.pi*fc*t)\n",
    "sos = signal.butter(5, 1/T, 'low', fs=fs, output='sos')\n",
    "temp = np.append(np.ones(int(fs*T))*np.mean(noise_down[0:int(fs*T)]), noise_down)\n",
    "s_filt = signal.sosfiltfilt(sos, temp)[int(fs*T):]\n",
    "\n",
    "print(np.sum(np.abs(s_filt)**2))\n",
    "\n",
    "# calculate the signal energi\n",
    "\n",
    "msk, t, data, _ = generate_msk(L0, 0.5, T, fc, fs, offset=offset, phase_offset=phase_offset)\n",
    "msk_down = msk*np.exp(-1j*2*np.pi*fc*t)\n",
    "sos = signal.butter(5, 1/T, 'low', fs=fs, output='sos')\n",
    "temp = np.append(np.ones(int(fs*T))*np.mean(msk_down[0:int(fs*T)]), msk_down)\n",
    "msk_filt = signal.sosfiltfilt(sos, temp)[int(fs*T):]\n",
    "\n",
    "print(np.sum(np.abs(msk_filt)**2))\n",
    "\n",
    "# calculate the signal to noise ratio\n",
    "print(10*np.log10(np.sum(np.abs(msk_filt)**2)/np.sum(np.abs(s_filt)**2)))"
   ]
  },
  {
   "cell_type": "code",
   "execution_count": 10,
   "metadata": {},
   "outputs": [],
   "source": [
    "def viterbi_metric(r, symbols, new_symbol, phase_start, where):\n",
    "    # r : received signal\n",
    "    # symbols : symbols to test\n",
    "    # phase_start : phase of the signal at beginning of sequence\n",
    "\n",
    "    phase = 0.5*np.pi*np.sum(symbols) + np.pi*new_symbol*np.linspace(0, 0.5, len(r), endpoint=False)+phase_start\n",
    "    \n",
    "\n",
    "    if where == 0:\n",
    "\n",
    "        t = np.linspace(0, (len(data))*T, int(len(data)*T*fs), endpoint=False)\n",
    "        t1 = int(where*fs*T)\n",
    "        t2 = int((where+1)*fs*T)\n",
    "        phase_plot = phase/np.pi % 2\n",
    "        phase_plot[phase_plot< 1e-10] = np.nan\n",
    "        plt.plot(t[t1:t2]/T, phase_plot)\n",
    "\n",
    "    return np.sum(np.real(np.exp(-1j*phase)*r))\n",
    "\n",
    "def viterbi_decoder(s, N):\n",
    "    # s : received signal\n",
    "    # T : symbol period\n",
    "    # N : number of symbols\n",
    "\n",
    "    # initial phase and symbols\n",
    "    p0s = np.array([0,.5*np.pi,np.pi,1.5*np.pi]) \n",
    "    p0_max = 0\n",
    "    for p in p0s:\n",
    "        metric1 = viterbi_metric(s[:N], [], np.array([-1]), p, 0)\n",
    "        metric2 = viterbi_metric(s[:N], [], np.array([1]), p, 0)\n",
    "        if max(metric1, metric2) > p0_max:\n",
    "            p0_max = max(metric1, metric2)\n",
    "            phase_start = p\n",
    "\n",
    "    print(phase_start/np.pi)\n",
    "    path1 = np.array([-1])\n",
    "    path2 = np.array([1])\n",
    "    pm1 = viterbi_metric(s[:N], [], path1, phase_start, -1) # check if the phase is correct\n",
    "    pm2 = viterbi_metric(s[:N], [], path2, phase_start, -1)\n",
    "    \n",
    "    for i in range(1,len(s)//N):\n",
    "        pm1_0 = pm1 + viterbi_metric(s[i*N:(i+1)*N], path1,-1, phase_start, i)\n",
    "        pm1_1 = pm1 + viterbi_metric(s[i*N:(i+1)*N], path1, 1, phase_start, i)\n",
    "        pm2_0 = pm2 + viterbi_metric(s[i*N:(i+1)*N], path2,-1, phase_start, i)\n",
    "        pm2_1 = pm2 + viterbi_metric(s[i*N:(i+1)*N], path2, 1, phase_start, i)\n",
    "        \n",
    "        print((path1+1)/2)\n",
    "        print((path2+1)/2)\n",
    "        \n",
    "        if (pm1_0>pm2_0):\n",
    "            path1_new = np.concatenate((path1,np.array([-1])))\n",
    "        else:\n",
    "            path1_new = np.concatenate((path2,np.array([-1])))\n",
    "\n",
    "        if (pm1_1>pm2_1):\n",
    "            path2_new = np.concatenate((path1,np.array([1])))\n",
    "        else:\n",
    "            path2_new = np.concatenate((path2,np.array([1])))\n",
    "\n",
    "        \n",
    "        pm1 = max(pm1_0, pm2_0)\n",
    "        pm2 = max(pm1_1, pm2_1)\n",
    "\n",
    "        (path1,path2) = (path1_new,path2_new)\n",
    "        print((path1+1)/2)\n",
    "        print((path2+1)/2)\n",
    "\n",
    "    path1[path1 == -1] = 0\n",
    "    path2[path2 == -1] = 0\n",
    "    if (pm1 > pm2):\n",
    "        return path1\n",
    "    else:\n",
    "        return path2"
   ]
  },
  {
   "cell_type": "code",
   "execution_count": 15,
   "metadata": {},
   "outputs": [
    {
     "name": "stdout",
     "output_type": "stream",
     "text": [
      "1.0\n",
      "[0.]\n",
      "[1.]\n",
      "[0. 0.]\n",
      "[0. 1.]\n",
      "[0. 0.]\n",
      "[0. 1.]\n",
      "[0. 0. 0.]\n",
      "[0. 0. 1.]\n",
      "[0. 0. 0.]\n",
      "[0. 0. 1.]\n",
      "[0. 0. 1. 0.]\n",
      "[0. 0. 1. 1.]\n",
      "[0. 0. 1. 0.]\n",
      "[0. 0. 1. 1.]\n",
      "[0. 0. 1. 1. 0.]\n",
      "[0. 0. 1. 1. 1.]\n",
      "[0. 0. 1. 1. 0.]\n",
      "[0. 0. 1. 1. 1.]\n",
      "[0. 0. 1. 1. 0. 0.]\n",
      "[0. 0. 1. 1. 0. 1.]\n",
      "[0. 0. 1. 1. 0. 0.]\n",
      "[0. 0. 1. 1. 0. 1.]\n",
      "[0. 0. 1. 1. 0. 0. 0.]\n",
      "[0. 0. 1. 1. 0. 0. 1.]\n",
      "[0. 0. 1. 1. 0. 0. 0.]\n",
      "[0. 0. 1. 1. 0. 0. 1.]\n",
      "[0. 0. 1. 1. 0. 0. 0. 0.]\n",
      "[0. 0. 1. 1. 0. 0. 0. 1.]\n"
     ]
    },
    {
     "data": {
      "text/plain": [
       "array([0, 0, 1, 1, 0, 0, 0, 1])"
      ]
     },
     "execution_count": 15,
     "metadata": {},
     "output_type": "execute_result"
    },
    {
     "data": {
      "image/png": "[encoded data removed]",
      "text/plain": [
       "<Figure size 640x480 with 1 Axes>"
      ]
     },
     "metadata": {},
     "output_type": "display_data"
    }
   ],
   "source": [
    "T = 0.1\n",
    "fc = 1/T*1.25\n",
    "#fc = 10\n",
    "fs = 1000\n",
    "data = np.array([0, 0, 1, 1, 0, 0, 0, 1])\n",
    "s, t, phase = generate_msk_data(data, T, fc, fs, start_phase=1*np.pi)\n",
    "plt.plot(t/T, phase/np.pi, linewidth=4)\n",
    "#decode\n",
    "decoded = viterbi_decoder(np.exp(1j*phase), 100)\n",
    "decoded"
   ]
  }
 ],
 "metadata": {
  "kernelspec": {
   "display_name": "base",
   "language": "python",
   "name": "python3"
  },
  "language_info": {
   "codemirror_mode": {
    "name": "ipython",
    "version": 3
   },
   "file_extension": ".py",
   "mimetype": "text/x-python",
   "name": "python",
   "nbconvert_exporter": "python",
   "pygments_lexer": "ipython3",
   "version": "3.11.5"
  }
 },
 "nbformat": 4,
 "nbformat_minor": 2
}
